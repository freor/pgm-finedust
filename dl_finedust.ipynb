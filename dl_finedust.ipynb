{
 "cells": [
  {
   "cell_type": "markdown",
   "metadata": {},
   "source": [
    "# simple DL for finedust prediction"
   ]
  },
  {
   "cell_type": "markdown",
   "metadata": {},
   "source": [
    "@befreor"
   ]
  },
  {
   "cell_type": "code",
   "execution_count": 1,
   "metadata": {},
   "outputs": [],
   "source": [
    "import torch\n",
    "import torch.nn as nn\n",
    "from torch.nn import functional as F"
   ]
  },
  {
   "cell_type": "code",
   "execution_count": 2,
   "metadata": {},
   "outputs": [],
   "source": [
    "from PGM.access_data import dbAccess\n",
    "\n",
    "import numpy as np\n",
    "import pandas as pd"
   ]
  },
  {
   "cell_type": "markdown",
   "metadata": {},
   "source": [
    "### Data Preprocessing"
   ]
  },
  {
   "cell_type": "code",
   "execution_count": 3,
   "metadata": {},
   "outputs": [
    {
     "name": "stdout",
     "output_type": "stream",
     "text": [
      "                     time      PV PM10 PM25    SO2     O3\n",
      "0     2016-01-01 08:00:00    0.24   50   31  0.002  0.013\n",
      "1     2016-01-01 09:00:00   115.2   49   28  0.002  0.011\n",
      "2     2016-01-01 10:00:00  367.92   51   32  0.003  0.014\n",
      "3     2016-01-01 11:00:00  585.24   64   34  0.003  0.022\n",
      "4     2016-01-01 12:00:00  669.12   54   31  0.003  0.029\n",
      "...                   ...     ...  ...  ...    ...    ...\n",
      "8766  2016-12-31 14:00:00   665.4   62   37  0.022  0.021\n",
      "8767  2016-12-31 15:00:00   527.4   78   43  0.013  0.027\n",
      "8768  2016-12-31 16:00:00  303.48   65   29  0.003  0.033\n",
      "8769  2016-12-31 17:00:00   70.32   39   10  0.003  0.035\n",
      "8770  2016-12-31 18:00:00    0.96   27   15  0.003  0.034\n",
      "\n",
      "[8771 rows x 6 columns] 8771\n"
     ]
    }
   ],
   "source": [
    "# example: 10_2016 - PM10, PM25, SO2, O3\n",
    "pvId = \"10\"\n",
    "year = \"2016\"\n",
    "db = dbAccess(\"PGM/%s_db_%s.csv\" % (pvId,year))\n",
    "db_data = db.get_data(\"2016-01-01 08:00\", \"2016-12-31 18:00\", \"PV\", \"PM10\",\"PM25\",\"SO2\", \"O3\")\n",
    "data = pd.DataFrame(db_data)\n",
    "print(data, len(data))"
   ]
  },
  {
   "cell_type": "code",
   "execution_count": 4,
   "metadata": {},
   "outputs": [
    {
     "data": {
      "text/html": [
       "<div>\n",
       "<style scoped>\n",
       "    .dataframe tbody tr th:only-of-type {\n",
       "        vertical-align: middle;\n",
       "    }\n",
       "\n",
       "    .dataframe tbody tr th {\n",
       "        vertical-align: top;\n",
       "    }\n",
       "\n",
       "    .dataframe thead th {\n",
       "        text-align: right;\n",
       "    }\n",
       "</style>\n",
       "<table border=\"1\" class=\"dataframe\">\n",
       "  <thead>\n",
       "    <tr style=\"text-align: right;\">\n",
       "      <th></th>\n",
       "      <th>time</th>\n",
       "      <th>PV</th>\n",
       "      <th>PM10</th>\n",
       "      <th>PM25</th>\n",
       "      <th>SO2</th>\n",
       "      <th>O3</th>\n",
       "    </tr>\n",
       "  </thead>\n",
       "  <tbody>\n",
       "    <tr>\n",
       "      <th>0</th>\n",
       "      <td>2016-01-01 08:00:00</td>\n",
       "      <td>0.24</td>\n",
       "      <td>50</td>\n",
       "      <td>31</td>\n",
       "      <td>0.002</td>\n",
       "      <td>0.013</td>\n",
       "    </tr>\n",
       "    <tr>\n",
       "      <th>1</th>\n",
       "      <td>2016-01-01 09:00:00</td>\n",
       "      <td>115.2</td>\n",
       "      <td>49</td>\n",
       "      <td>28</td>\n",
       "      <td>0.002</td>\n",
       "      <td>0.011</td>\n",
       "    </tr>\n",
       "    <tr>\n",
       "      <th>2</th>\n",
       "      <td>2016-01-01 10:00:00</td>\n",
       "      <td>367.92</td>\n",
       "      <td>51</td>\n",
       "      <td>32</td>\n",
       "      <td>0.003</td>\n",
       "      <td>0.014</td>\n",
       "    </tr>\n",
       "    <tr>\n",
       "      <th>3</th>\n",
       "      <td>2016-01-01 11:00:00</td>\n",
       "      <td>585.24</td>\n",
       "      <td>64</td>\n",
       "      <td>34</td>\n",
       "      <td>0.003</td>\n",
       "      <td>0.022</td>\n",
       "    </tr>\n",
       "    <tr>\n",
       "      <th>4</th>\n",
       "      <td>2016-01-01 12:00:00</td>\n",
       "      <td>669.12</td>\n",
       "      <td>54</td>\n",
       "      <td>31</td>\n",
       "      <td>0.003</td>\n",
       "      <td>0.029</td>\n",
       "    </tr>\n",
       "    <tr>\n",
       "      <th>5</th>\n",
       "      <td>2016-01-01 13:00:00</td>\n",
       "      <td>695.52</td>\n",
       "      <td>59</td>\n",
       "      <td>38</td>\n",
       "      <td>0.005</td>\n",
       "      <td>0.033</td>\n",
       "    </tr>\n",
       "    <tr>\n",
       "      <th>6</th>\n",
       "      <td>2016-01-01 14:00:00</td>\n",
       "      <td>660.24</td>\n",
       "      <td>66</td>\n",
       "      <td>35</td>\n",
       "      <td>0.006</td>\n",
       "      <td>0.034</td>\n",
       "    </tr>\n",
       "    <tr>\n",
       "      <th>7</th>\n",
       "      <td>2016-01-01 15:00:00</td>\n",
       "      <td>485.88</td>\n",
       "      <td>68</td>\n",
       "      <td>37</td>\n",
       "      <td>0.014</td>\n",
       "      <td>0.035</td>\n",
       "    </tr>\n",
       "    <tr>\n",
       "      <th>8</th>\n",
       "      <td>2016-01-01 16:00:00</td>\n",
       "      <td>307.44</td>\n",
       "      <td>76</td>\n",
       "      <td>41</td>\n",
       "      <td>0.008</td>\n",
       "      <td>0.038</td>\n",
       "    </tr>\n",
       "    <tr>\n",
       "      <th>9</th>\n",
       "      <td>2016-01-01 17:00:00</td>\n",
       "      <td>80.16</td>\n",
       "      <td>56</td>\n",
       "      <td>37</td>\n",
       "      <td>0.003</td>\n",
       "      <td>0.039</td>\n",
       "    </tr>\n",
       "  </tbody>\n",
       "</table>\n",
       "</div>"
      ],
      "text/plain": [
       "                  time      PV PM10 PM25    SO2     O3\n",
       "0  2016-01-01 08:00:00    0.24   50   31  0.002  0.013\n",
       "1  2016-01-01 09:00:00   115.2   49   28  0.002  0.011\n",
       "2  2016-01-01 10:00:00  367.92   51   32  0.003  0.014\n",
       "3  2016-01-01 11:00:00  585.24   64   34  0.003  0.022\n",
       "4  2016-01-01 12:00:00  669.12   54   31  0.003  0.029\n",
       "5  2016-01-01 13:00:00  695.52   59   38  0.005  0.033\n",
       "6  2016-01-01 14:00:00  660.24   66   35  0.006  0.034\n",
       "7  2016-01-01 15:00:00  485.88   68   37  0.014  0.035\n",
       "8  2016-01-01 16:00:00  307.44   76   41  0.008  0.038\n",
       "9  2016-01-01 17:00:00   80.16   56   37  0.003  0.039"
      ]
     },
     "execution_count": 4,
     "metadata": {},
     "output_type": "execute_result"
    }
   ],
   "source": [
    "data[:10]"
   ]
  },
  {
   "cell_type": "code",
   "execution_count": 5,
   "metadata": {},
   "outputs": [
    {
     "data": {
      "text/html": [
       "<div>\n",
       "<style scoped>\n",
       "    .dataframe tbody tr th:only-of-type {\n",
       "        vertical-align: middle;\n",
       "    }\n",
       "\n",
       "    .dataframe tbody tr th {\n",
       "        vertical-align: top;\n",
       "    }\n",
       "\n",
       "    .dataframe thead th {\n",
       "        text-align: right;\n",
       "    }\n",
       "</style>\n",
       "<table border=\"1\" class=\"dataframe\">\n",
       "  <thead>\n",
       "    <tr style=\"text-align: right;\">\n",
       "      <th></th>\n",
       "      <th>time</th>\n",
       "      <th>PV</th>\n",
       "      <th>PM10</th>\n",
       "      <th>PM25</th>\n",
       "      <th>SO2</th>\n",
       "      <th>O3</th>\n",
       "    </tr>\n",
       "  </thead>\n",
       "  <tbody>\n",
       "    <tr>\n",
       "      <th>53</th>\n",
       "      <td>2016-01-03 13:00:00</td>\n",
       "      <td>606.12</td>\n",
       "      <td>46</td>\n",
       "      <td>31</td>\n",
       "      <td>0.003</td>\n",
       "      <td>0.033</td>\n",
       "    </tr>\n",
       "    <tr>\n",
       "      <th>54</th>\n",
       "      <td>2016-01-03 14:00:00</td>\n",
       "      <td>632.88</td>\n",
       "      <td>45</td>\n",
       "      <td>39</td>\n",
       "      <td>0.015</td>\n",
       "      <td>0.027</td>\n",
       "    </tr>\n",
       "    <tr>\n",
       "      <th>55</th>\n",
       "      <td>2016-01-03 15:00:00</td>\n",
       "      <td>549.36</td>\n",
       "      <td>45</td>\n",
       "      <td></td>\n",
       "      <td>0.018</td>\n",
       "      <td>0.040</td>\n",
       "    </tr>\n",
       "    <tr>\n",
       "      <th>56</th>\n",
       "      <td>2016-01-03 16:00:00</td>\n",
       "      <td>365.28</td>\n",
       "      <td>44</td>\n",
       "      <td>43</td>\n",
       "      <td>0.011</td>\n",
       "      <td>0.040</td>\n",
       "    </tr>\n",
       "  </tbody>\n",
       "</table>\n",
       "</div>"
      ],
      "text/plain": [
       "                   time      PV PM10 PM25    SO2     O3\n",
       "53  2016-01-03 13:00:00  606.12   46   31  0.003  0.033\n",
       "54  2016-01-03 14:00:00  632.88   45   39  0.015  0.027\n",
       "55  2016-01-03 15:00:00  549.36   45       0.018  0.040\n",
       "56  2016-01-03 16:00:00  365.28   44   43  0.011  0.040"
      ]
     },
     "execution_count": 5,
     "metadata": {},
     "output_type": "execute_result"
    }
   ],
   "source": [
    "data[53:57]"
   ]
  },
  {
   "cell_type": "markdown",
   "metadata": {},
   "source": [
    "#### remove '' datas"
   ]
  },
  {
   "cell_type": "code",
   "execution_count": 6,
   "metadata": {},
   "outputs": [],
   "source": [
    "for col in data.columns:\n",
    "    data = data.loc[data[col] != '']"
   ]
  },
  {
   "cell_type": "code",
   "execution_count": 7,
   "metadata": {},
   "outputs": [],
   "source": [
    "data = data.loc[data['PV'] != '0'] # remove \"PV == 0\""
   ]
  },
  {
   "cell_type": "code",
   "execution_count": 8,
   "metadata": {},
   "outputs": [
    {
     "name": "stdout",
     "output_type": "stream",
     "text": [
      "                     time      PV PM10 PM25    SO2     O3\n",
      "0     2016-01-01 08:00:00    0.24   50   31  0.002  0.013\n",
      "1     2016-01-01 09:00:00   115.2   49   28  0.002  0.011\n",
      "2     2016-01-01 10:00:00  367.92   51   32  0.003  0.014\n",
      "3     2016-01-01 11:00:00  585.24   64   34  0.003  0.022\n",
      "4     2016-01-01 12:00:00  669.12   54   31  0.003  0.029\n",
      "...                   ...     ...  ...  ...    ...    ...\n",
      "8766  2016-12-31 14:00:00   665.4   62   37  0.022  0.021\n",
      "8767  2016-12-31 15:00:00   527.4   78   43  0.013  0.027\n",
      "8768  2016-12-31 16:00:00  303.48   65   29  0.003  0.033\n",
      "8769  2016-12-31 17:00:00   70.32   39   10  0.003  0.035\n",
      "8770  2016-12-31 18:00:00    0.96   27   15  0.003  0.034\n",
      "\n",
      "[3989 rows x 6 columns] 3989\n"
     ]
    }
   ],
   "source": [
    "print(data, len(data))"
   ]
  },
  {
   "cell_type": "code",
   "execution_count": 9,
   "metadata": {},
   "outputs": [
    {
     "data": {
      "text/html": [
       "<div>\n",
       "<style scoped>\n",
       "    .dataframe tbody tr th:only-of-type {\n",
       "        vertical-align: middle;\n",
       "    }\n",
       "\n",
       "    .dataframe tbody tr th {\n",
       "        vertical-align: top;\n",
       "    }\n",
       "\n",
       "    .dataframe thead th {\n",
       "        text-align: right;\n",
       "    }\n",
       "</style>\n",
       "<table border=\"1\" class=\"dataframe\">\n",
       "  <thead>\n",
       "    <tr style=\"text-align: right;\">\n",
       "      <th></th>\n",
       "      <th>time</th>\n",
       "      <th>PV</th>\n",
       "      <th>PM10</th>\n",
       "      <th>PM25</th>\n",
       "      <th>SO2</th>\n",
       "      <th>O3</th>\n",
       "    </tr>\n",
       "  </thead>\n",
       "  <tbody>\n",
       "    <tr>\n",
       "      <th>0</th>\n",
       "      <td>2016-01-01 08:00:00</td>\n",
       "      <td>0.24</td>\n",
       "      <td>50</td>\n",
       "      <td>31</td>\n",
       "      <td>0.002</td>\n",
       "      <td>0.013</td>\n",
       "    </tr>\n",
       "    <tr>\n",
       "      <th>1</th>\n",
       "      <td>2016-01-01 09:00:00</td>\n",
       "      <td>115.2</td>\n",
       "      <td>49</td>\n",
       "      <td>28</td>\n",
       "      <td>0.002</td>\n",
       "      <td>0.011</td>\n",
       "    </tr>\n",
       "    <tr>\n",
       "      <th>2</th>\n",
       "      <td>2016-01-01 10:00:00</td>\n",
       "      <td>367.92</td>\n",
       "      <td>51</td>\n",
       "      <td>32</td>\n",
       "      <td>0.003</td>\n",
       "      <td>0.014</td>\n",
       "    </tr>\n",
       "    <tr>\n",
       "      <th>3</th>\n",
       "      <td>2016-01-01 11:00:00</td>\n",
       "      <td>585.24</td>\n",
       "      <td>64</td>\n",
       "      <td>34</td>\n",
       "      <td>0.003</td>\n",
       "      <td>0.022</td>\n",
       "    </tr>\n",
       "    <tr>\n",
       "      <th>4</th>\n",
       "      <td>2016-01-01 12:00:00</td>\n",
       "      <td>669.12</td>\n",
       "      <td>54</td>\n",
       "      <td>31</td>\n",
       "      <td>0.003</td>\n",
       "      <td>0.029</td>\n",
       "    </tr>\n",
       "    <tr>\n",
       "      <th>5</th>\n",
       "      <td>2016-01-01 13:00:00</td>\n",
       "      <td>695.52</td>\n",
       "      <td>59</td>\n",
       "      <td>38</td>\n",
       "      <td>0.005</td>\n",
       "      <td>0.033</td>\n",
       "    </tr>\n",
       "    <tr>\n",
       "      <th>6</th>\n",
       "      <td>2016-01-01 14:00:00</td>\n",
       "      <td>660.24</td>\n",
       "      <td>66</td>\n",
       "      <td>35</td>\n",
       "      <td>0.006</td>\n",
       "      <td>0.034</td>\n",
       "    </tr>\n",
       "    <tr>\n",
       "      <th>7</th>\n",
       "      <td>2016-01-01 15:00:00</td>\n",
       "      <td>485.88</td>\n",
       "      <td>68</td>\n",
       "      <td>37</td>\n",
       "      <td>0.014</td>\n",
       "      <td>0.035</td>\n",
       "    </tr>\n",
       "    <tr>\n",
       "      <th>8</th>\n",
       "      <td>2016-01-01 16:00:00</td>\n",
       "      <td>307.44</td>\n",
       "      <td>76</td>\n",
       "      <td>41</td>\n",
       "      <td>0.008</td>\n",
       "      <td>0.038</td>\n",
       "    </tr>\n",
       "    <tr>\n",
       "      <th>9</th>\n",
       "      <td>2016-01-01 17:00:00</td>\n",
       "      <td>80.16</td>\n",
       "      <td>56</td>\n",
       "      <td>37</td>\n",
       "      <td>0.003</td>\n",
       "      <td>0.039</td>\n",
       "    </tr>\n",
       "  </tbody>\n",
       "</table>\n",
       "</div>"
      ],
      "text/plain": [
       "                  time      PV PM10 PM25    SO2     O3\n",
       "0  2016-01-01 08:00:00    0.24   50   31  0.002  0.013\n",
       "1  2016-01-01 09:00:00   115.2   49   28  0.002  0.011\n",
       "2  2016-01-01 10:00:00  367.92   51   32  0.003  0.014\n",
       "3  2016-01-01 11:00:00  585.24   64   34  0.003  0.022\n",
       "4  2016-01-01 12:00:00  669.12   54   31  0.003  0.029\n",
       "5  2016-01-01 13:00:00  695.52   59   38  0.005  0.033\n",
       "6  2016-01-01 14:00:00  660.24   66   35  0.006  0.034\n",
       "7  2016-01-01 15:00:00  485.88   68   37  0.014  0.035\n",
       "8  2016-01-01 16:00:00  307.44   76   41  0.008  0.038\n",
       "9  2016-01-01 17:00:00   80.16   56   37  0.003  0.039"
      ]
     },
     "execution_count": 9,
     "metadata": {},
     "output_type": "execute_result"
    }
   ],
   "source": [
    "data[:10]"
   ]
  },
  {
   "cell_type": "code",
   "execution_count": 10,
   "metadata": {},
   "outputs": [
    {
     "data": {
      "text/html": [
       "<div>\n",
       "<style scoped>\n",
       "    .dataframe tbody tr th:only-of-type {\n",
       "        vertical-align: middle;\n",
       "    }\n",
       "\n",
       "    .dataframe tbody tr th {\n",
       "        vertical-align: top;\n",
       "    }\n",
       "\n",
       "    .dataframe thead th {\n",
       "        text-align: right;\n",
       "    }\n",
       "</style>\n",
       "<table border=\"1\" class=\"dataframe\">\n",
       "  <thead>\n",
       "    <tr style=\"text-align: right;\">\n",
       "      <th></th>\n",
       "      <th>time</th>\n",
       "      <th>PV</th>\n",
       "      <th>PM10</th>\n",
       "      <th>PM25</th>\n",
       "      <th>SO2</th>\n",
       "      <th>O3</th>\n",
       "    </tr>\n",
       "  </thead>\n",
       "  <tbody>\n",
       "    <tr>\n",
       "      <th>147</th>\n",
       "      <td>2016-01-07 11:00:00</td>\n",
       "      <td>604.92</td>\n",
       "      <td>29</td>\n",
       "      <td>12</td>\n",
       "      <td>0.004</td>\n",
       "      <td>0.036</td>\n",
       "    </tr>\n",
       "    <tr>\n",
       "      <th>148</th>\n",
       "      <td>2016-01-07 12:00:00</td>\n",
       "      <td>725.76</td>\n",
       "      <td>34</td>\n",
       "      <td>15</td>\n",
       "      <td>0.004</td>\n",
       "      <td>0.037</td>\n",
       "    </tr>\n",
       "    <tr>\n",
       "      <th>149</th>\n",
       "      <td>2016-01-07 13:00:00</td>\n",
       "      <td>764.04</td>\n",
       "      <td>31</td>\n",
       "      <td>15</td>\n",
       "      <td>0.004</td>\n",
       "      <td>0.038</td>\n",
       "    </tr>\n",
       "  </tbody>\n",
       "</table>\n",
       "</div>"
      ],
      "text/plain": [
       "                    time      PV PM10 PM25    SO2     O3\n",
       "147  2016-01-07 11:00:00  604.92   29   12  0.004  0.036\n",
       "148  2016-01-07 12:00:00  725.76   34   15  0.004  0.037\n",
       "149  2016-01-07 13:00:00  764.04   31   15  0.004  0.038"
      ]
     },
     "execution_count": 10,
     "metadata": {},
     "output_type": "execute_result"
    }
   ],
   "source": [
    "data[53:56]"
   ]
  },
  {
   "cell_type": "code",
   "execution_count": 11,
   "metadata": {},
   "outputs": [],
   "source": [
    "n_data = len(data)\n",
    "num_train = 3000\n",
    "num_test = 512\n",
    "\n",
    "assert n_data >= num_train + num_test"
   ]
  },
  {
   "cell_type": "code",
   "execution_count": 12,
   "metadata": {},
   "outputs": [
    {
     "name": "stdout",
     "output_type": "stream",
     "text": [
      "3989 (3989,)\n"
     ]
    }
   ],
   "source": [
    "# learning data\n",
    "# xs\n",
    "pm10 = np.array(data.PM10.values.astype(float))\n",
    "pm25 = np.array(data.PM25.values.astype(float))\n",
    "so2 = np.array(data.SO2.values.astype(float))\n",
    "o3 = np.array(data.O3.values.astype(float))\n",
    "# y\n",
    "pv = np.array(data.PV.values.astype(float))\n",
    "\n",
    "print(n_data, pv.shape)"
   ]
  },
  {
   "cell_type": "code",
   "execution_count": 13,
   "metadata": {},
   "outputs": [],
   "source": [
    "xs = np.stack([pm10, pm25, so2, o3], axis=1)\n",
    "ys = pv"
   ]
  },
  {
   "cell_type": "code",
   "execution_count": 14,
   "metadata": {},
   "outputs": [],
   "source": [
    "train_xs, test_xs = xs[:num_train], xs[num_train:num_train + num_test]\n",
    "train_ys, test_ys = ys[:num_train], ys[num_train:num_train + num_test]"
   ]
  },
  {
   "cell_type": "code",
   "execution_count": 15,
   "metadata": {},
   "outputs": [
    {
     "name": "stdout",
     "output_type": "stream",
     "text": [
      "[[5.0e+01 3.1e+01 2.0e-03 1.3e-02]\n",
      " [4.9e+01 2.8e+01 2.0e-03 1.1e-02]\n",
      " [5.1e+01 3.2e+01 3.0e-03 1.4e-02]\n",
      " [6.4e+01 3.4e+01 3.0e-03 2.2e-02]\n",
      " [5.4e+01 3.1e+01 3.0e-03 2.9e-02]\n",
      " [5.9e+01 3.8e+01 5.0e-03 3.3e-02]\n",
      " [6.6e+01 3.5e+01 6.0e-03 3.4e-02]\n",
      " [6.8e+01 3.7e+01 1.4e-02 3.5e-02]\n",
      " [7.6e+01 4.1e+01 8.0e-03 3.8e-02]\n",
      " [5.6e+01 3.7e+01 3.0e-03 3.9e-02]] [253.8  422.64 531.36 652.2  637.92 569.52 431.16 276.6  180.96  41.88]\n"
     ]
    }
   ],
   "source": [
    "print(train_xs[:10], test_ys[:10])"
   ]
  },
  {
   "cell_type": "markdown",
   "metadata": {},
   "source": [
    "# DL meta for finedust"
   ]
  },
  {
   "cell_type": "markdown",
   "metadata": {},
   "source": [
    "#### custom lienar"
   ]
  },
  {
   "cell_type": "code",
   "execution_count": 17,
   "metadata": {},
   "outputs": [],
   "source": [
    "def linear(input, weight, bias=None):\n",
    "    if bias is None:\n",
    "        return F.linear(input, weight.cuda())\n",
    "    else:\n",
    "        return F.linear(input, weight.cuda(), bias.cuda())"
   ]
  },
  {
   "cell_type": "markdown",
   "metadata": {},
   "source": [
    "#### DL model"
   ]
  },
  {
   "cell_type": "code",
   "execution_count": 18,
   "metadata": {},
   "outputs": [],
   "source": [
    "class Encoder(nn.Module):\n",
    "    def __init__(self, in_dim, hid_dim, out_dim):\n",
    "        super(Encoder, self).__init__()\n",
    "        self.in_dim = in_dim\n",
    "        self.hid_dim = hid_dim\n",
    "        self.out_dim = out_dim\n",
    "\n",
    "        self.layer = nn.Sequential(\n",
    "                        nn.Linear(in_dim, hid_dim),\n",
    "                        nn.ReLU(),\n",
    "                        nn.Linear(hid_dim, hid_dim),\n",
    "                        nn.ReLU(),\n",
    "                        nn.Linear(hid_dim, out_dim))\n",
    "        self.relu = nn.ReLU()\n",
    "\n",
    "    def forward(self, x, params=None):\n",
    "        if params is None:\n",
    "            out = self.layer(x)\n",
    "            out = out.view(out.size(0), -1)\n",
    "            return out\n",
    "        else:\n",
    "            out = linear(x, params['layer.0.weight'], params['layer.0.bias'])\n",
    "            out = self.relu(out)\n",
    "            out = linear(out, params['layer.2.weight'], params['layer.2.bias'])\n",
    "            out = self.relu(out)\n",
    "            out = linear(out, params['layer.4.weight'], params['layer.4.bias'])\n",
    "            out = out.view(out.size(0), -1)\n",
    "            return out"
   ]
  },
  {
   "cell_type": "markdown",
   "metadata": {},
   "source": [
    "#### config"
   ]
  },
  {
   "cell_type": "code",
   "execution_count": 19,
   "metadata": {},
   "outputs": [
    {
     "name": "stdout",
     "output_type": "stream",
     "text": [
      "3000 512\n"
     ]
    }
   ],
   "source": [
    "N = 4 # data dimension number\n",
    "H = 64 # hidden number\n",
    "OUT = 1 # output dimension\n",
    "SUPPORT_SIZE = 16 # support size\n",
    "QUERY_SIZE = 4 # query size\n",
    "\n",
    "learning_rate = 1e-4 # learning \n",
    "n_iter = 100000\n",
    "\n",
    "n_train = len(train_xs)\n",
    "n_test = len(test_xs)\n",
    "print(n_train, n_test)"
   ]
  },
  {
   "cell_type": "markdown",
   "metadata": {},
   "source": [
    "#### data"
   ]
  },
  {
   "cell_type": "code",
   "execution_count": 20,
   "metadata": {},
   "outputs": [
    {
     "name": "stdout",
     "output_type": "stream",
     "text": [
      "3000 512\n"
     ]
    }
   ],
   "source": [
    "# dummy data\n",
    "'''\n",
    "prem_x = torch.randn(batch_size, N).cuda()\n",
    "prem_y = torch.randn(batch_size, 1).cuda()\n",
    "\n",
    "postm_x = torch.randn(batch_size, N).cuda()\n",
    "postm_y = torch.randn(batch_size, 1).cuda()\n",
    "'''\n",
    "\n",
    "tr_x = torch.tensor(train_xs).cuda()\n",
    "tr_y = torch.tensor(train_ys).cuda()\n",
    "\n",
    "te_x = torch.tensor(test_xs).cuda()\n",
    "te_y = torch.tensor(test_ys).cuda()\n",
    "\n",
    "N_TRAIN = len(tr_x)\n",
    "N_TEST = len(te_x)\n",
    "print(N_TRAIN, N_TEST)"
   ]
  },
  {
   "cell_type": "code",
   "execution_count": 21,
   "metadata": {},
   "outputs": [],
   "source": [
    "def data_gen(dx, dy, i, s, q, l):\n",
    "    # dx, dy: data, i: iter, s: support size, q: query size, l: len(data)\n",
    "    cur = (i * (s+q)) % l\n",
    "    nxt = ((i+1) * (s+q)) % l\n",
    "    if cur < nxt:\n",
    "        result_x =  dx[cur: cur+nxt]\n",
    "        result_y =  dy[cur: cur+nxt]\n",
    "    elif cur >= nxt and nxt != 0:\n",
    "        result_x =  torch.cat([dx[cur:], dx[:nxt]], axis=1)\n",
    "        result_y =  torch.cat([dy[cur:], dy[:nxt]], axis=1)\n",
    "    else:\n",
    "        result_x =  dx[cur:]\n",
    "        result_y =  dy[cur:]\n",
    "    \n",
    "    # support data, query data\n",
    "    return result_x[:s,:].float(), result_y[:s].float(), result_x[s:s+q,:].float(), result_y[s:s+q].float()"
   ]
  },
  {
   "cell_type": "markdown",
   "metadata": {},
   "source": [
    "#### algo."
   ]
  },
  {
   "cell_type": "code",
   "execution_count": 22,
   "metadata": {},
   "outputs": [],
   "source": [
    "model = Encoder(N, H, OUT).cuda()\n",
    "model.train()"
   ]
  },
  {
   "cell_type": "code",
   "execution_count": 23,
   "metadata": {},
   "outputs": [],
   "source": [
    "mse = nn.MSELoss()\n",
    "optimizer = torch.optim.Adam(model.parameters(), lr=learning_rate)"
   ]
  },
  {
   "cell_type": "code",
   "execution_count": 24,
   "metadata": {},
   "outputs": [],
   "source": [
    "org_param = {}\n",
    "for k,v in model.named_parameters():\n",
    "    org_param[k] = v"
   ]
  },
  {
   "cell_type": "code",
   "execution_count": 25,
   "metadata": {},
   "outputs": [
    {
     "data": {
      "text/plain": [
       "'torch.cuda.FloatTensor'"
      ]
     },
     "execution_count": 25,
     "metadata": {},
     "output_type": "execute_result"
    }
   ],
   "source": [
    "org_param['layer.0.weight'].type()"
   ]
  },
  {
   "cell_type": "code",
   "execution_count": 26,
   "metadata": {},
   "outputs": [
    {
     "name": "stdout",
     "output_type": "stream",
     "text": [
      "1 tensor(2432.2466, device='cuda:0', grad_fn=<MseLossBackward>)\n",
      "1001 tensor(1965.8884, device='cuda:0', grad_fn=<MseLossBackward>)\n",
      "2001 tensor(49271368., device='cuda:0', grad_fn=<MseLossBackward>)\n",
      "3001 tensor(7391.0479, device='cuda:0', grad_fn=<MseLossBackward>)\n",
      "4001 tensor(2883.6167, device='cuda:0', grad_fn=<MseLossBackward>)\n",
      "5001 tensor(2469262., device='cuda:0', grad_fn=<MseLossBackward>)\n",
      "6001 tensor(6790.2344, device='cuda:0', grad_fn=<MseLossBackward>)\n",
      "7001 tensor(2612.3977, device='cuda:0', grad_fn=<MseLossBackward>)\n",
      "8001 tensor(449206.6562, device='cuda:0', grad_fn=<MseLossBackward>)\n",
      "9001 tensor(5503.4556, device='cuda:0', grad_fn=<MseLossBackward>)\n",
      "10001 tensor(2140.6562, device='cuda:0', grad_fn=<MseLossBackward>)\n",
      "11001 tensor(7577.3442, device='cuda:0', grad_fn=<MseLossBackward>)\n",
      "12001 tensor(3833.0347, device='cuda:0', grad_fn=<MseLossBackward>)\n",
      "13001 tensor(1857.5337, device='cuda:0', grad_fn=<MseLossBackward>)\n",
      "14001 tensor(287589.6875, device='cuda:0', grad_fn=<MseLossBackward>)\n",
      "15001 tensor(2366.9546, device='cuda:0', grad_fn=<MseLossBackward>)\n",
      "16001 tensor(3417.3481, device='cuda:0', grad_fn=<MseLossBackward>)\n",
      "17001 tensor(13926.7773, device='cuda:0', grad_fn=<MseLossBackward>)\n",
      "18001 tensor(3215.1716, device='cuda:0', grad_fn=<MseLossBackward>)\n",
      "19001 tensor(6349.8848, device='cuda:0', grad_fn=<MseLossBackward>)\n",
      "20001 tensor(13623.4961, device='cuda:0', grad_fn=<MseLossBackward>)\n",
      "21001 tensor(4755.9468, device='cuda:0', grad_fn=<MseLossBackward>)\n",
      "22001 tensor(9195.8975, device='cuda:0', grad_fn=<MseLossBackward>)\n",
      "23001 tensor(69416.9844, device='cuda:0', grad_fn=<MseLossBackward>)\n",
      "24001 tensor(7095.7842, device='cuda:0', grad_fn=<MseLossBackward>)\n",
      "25001 tensor(11286.9971, device='cuda:0', grad_fn=<MseLossBackward>)\n",
      "26001 tensor(31098.1055, device='cuda:0', grad_fn=<MseLossBackward>)\n",
      "27001 tensor(11020.3145, device='cuda:0', grad_fn=<MseLossBackward>)\n",
      "28001 tensor(12877.6396, device='cuda:0', grad_fn=<MseLossBackward>)\n",
      "29001 tensor(12391.8984, device='cuda:0', grad_fn=<MseLossBackward>)\n",
      "30001 tensor(10071.0635, device='cuda:0', grad_fn=<MseLossBackward>)\n",
      "31001 tensor(13625.0332, device='cuda:0', grad_fn=<MseLossBackward>)\n",
      "32001 tensor(2760.3857, device='cuda:0', grad_fn=<MseLossBackward>)\n",
      "33001 tensor(10868.2080, device='cuda:0', grad_fn=<MseLossBackward>)\n",
      "34001 tensor(15612.1650, device='cuda:0', grad_fn=<MseLossBackward>)\n",
      "35001 tensor(6163.1758, device='cuda:0', grad_fn=<MseLossBackward>)\n",
      "36001 tensor(12848.4268, device='cuda:0', grad_fn=<MseLossBackward>)\n",
      "37001 tensor(16560.9609, device='cuda:0', grad_fn=<MseLossBackward>)\n",
      "38001 tensor(8631.3682, device='cuda:0', grad_fn=<MseLossBackward>)\n",
      "39001 tensor(13508.5547, device='cuda:0', grad_fn=<MseLossBackward>)\n",
      "40001 tensor(16776.6484, device='cuda:0', grad_fn=<MseLossBackward>)\n",
      "41001 tensor(28445.4082, device='cuda:0', grad_fn=<MseLossBackward>)\n",
      "42001 tensor(14570.5420, device='cuda:0', grad_fn=<MseLossBackward>)\n",
      "43001 tensor(17355.3359, device='cuda:0', grad_fn=<MseLossBackward>)\n",
      "44001 tensor(4052.8792, device='cuda:0', grad_fn=<MseLossBackward>)\n",
      "45001 tensor(15932.3701, device='cuda:0', grad_fn=<MseLossBackward>)\n",
      "46001 tensor(17377.5625, device='cuda:0', grad_fn=<MseLossBackward>)\n",
      "47001 tensor(8517.7002, device='cuda:0', grad_fn=<MseLossBackward>)\n",
      "48001 tensor(16893.9141, device='cuda:0', grad_fn=<MseLossBackward>)\n",
      "49001 tensor(17399.7695, device='cuda:0', grad_fn=<MseLossBackward>)\n",
      "50001 tensor(3112.6943, device='cuda:0', grad_fn=<MseLossBackward>)\n",
      "51001 tensor(18019.2266, device='cuda:0', grad_fn=<MseLossBackward>)\n",
      "52001 tensor(19637.9414, device='cuda:0', grad_fn=<MseLossBackward>)\n",
      "53001 tensor(196651.7812, device='cuda:0', grad_fn=<MseLossBackward>)\n",
      "54001 tensor(16460.6621, device='cuda:0', grad_fn=<MseLossBackward>)\n",
      "55001 tensor(25835.0625, device='cuda:0', grad_fn=<MseLossBackward>)\n",
      "56001 tensor(1880.9330, device='cuda:0', grad_fn=<MseLossBackward>)\n",
      "57001 tensor(12456.3857, device='cuda:0', grad_fn=<MseLossBackward>)\n",
      "58001 tensor(21217.7363, device='cuda:0', grad_fn=<MseLossBackward>)\n",
      "59001 tensor(72187.4766, device='cuda:0', grad_fn=<MseLossBackward>)\n",
      "60001 tensor(15026.9004, device='cuda:0', grad_fn=<MseLossBackward>)\n",
      "61001 tensor(19283.5781, device='cuda:0', grad_fn=<MseLossBackward>)\n",
      "62001 tensor(44693.3828, device='cuda:0', grad_fn=<MseLossBackward>)\n",
      "63001 tensor(13521.9355, device='cuda:0', grad_fn=<MseLossBackward>)\n",
      "64001 tensor(18293.5410, device='cuda:0', grad_fn=<MseLossBackward>)\n",
      "65001 tensor(10132.2344, device='cuda:0', grad_fn=<MseLossBackward>)\n",
      "66001 tensor(11752.0234, device='cuda:0', grad_fn=<MseLossBackward>)\n",
      "67001 tensor(16118.9619, device='cuda:0', grad_fn=<MseLossBackward>)\n",
      "68001 tensor(36272.8398, device='cuda:0', grad_fn=<MseLossBackward>)\n",
      "69001 tensor(15425.3594, device='cuda:0', grad_fn=<MseLossBackward>)\n",
      "70001 tensor(17679.3398, device='cuda:0', grad_fn=<MseLossBackward>)\n",
      "71001 tensor(1594.9617, device='cuda:0', grad_fn=<MseLossBackward>)\n",
      "72001 tensor(13212.9893, device='cuda:0', grad_fn=<MseLossBackward>)\n",
      "73001 tensor(14143.3701, device='cuda:0', grad_fn=<MseLossBackward>)\n",
      "74001 tensor(2418.1206, device='cuda:0', grad_fn=<MseLossBackward>)\n",
      "75001 tensor(9772.7363, device='cuda:0', grad_fn=<MseLossBackward>)\n",
      "76001 tensor(9607.7031, device='cuda:0', grad_fn=<MseLossBackward>)\n",
      "77001 tensor(176815.8438, device='cuda:0', grad_fn=<MseLossBackward>)\n",
      "78001 tensor(9952.7754, device='cuda:0', grad_fn=<MseLossBackward>)\n",
      "79001 tensor(13441.8213, device='cuda:0', grad_fn=<MseLossBackward>)\n",
      "80001 tensor(250272.2500, device='cuda:0', grad_fn=<MseLossBackward>)\n",
      "81001 tensor(17008.3125, device='cuda:0', grad_fn=<MseLossBackward>)\n",
      "82001 tensor(16197.0488, device='cuda:0', grad_fn=<MseLossBackward>)\n",
      "83001 tensor(242140.6562, device='cuda:0', grad_fn=<MseLossBackward>)\n",
      "84001 tensor(7355.5840, device='cuda:0', grad_fn=<MseLossBackward>)\n",
      "85001 tensor(15783.7441, device='cuda:0', grad_fn=<MseLossBackward>)\n",
      "86001 tensor(228805.2188, device='cuda:0', grad_fn=<MseLossBackward>)\n",
      "87001 tensor(8477.9531, device='cuda:0', grad_fn=<MseLossBackward>)\n",
      "88001 tensor(13086.8760, device='cuda:0', grad_fn=<MseLossBackward>)\n",
      "89001 tensor(229690.9844, device='cuda:0', grad_fn=<MseLossBackward>)\n",
      "90001 tensor(5394.6001, device='cuda:0', grad_fn=<MseLossBackward>)\n",
      "91001 tensor(13974.3047, device='cuda:0', grad_fn=<MseLossBackward>)\n",
      "92001 tensor(85341.1406, device='cuda:0', grad_fn=<MseLossBackward>)\n",
      "93001 tensor(6504.2021, device='cuda:0', grad_fn=<MseLossBackward>)\n",
      "94001 tensor(15686.1367, device='cuda:0', grad_fn=<MseLossBackward>)\n",
      "95001 tensor(167187.5625, device='cuda:0', grad_fn=<MseLossBackward>)\n",
      "96001 tensor(5852.6987, device='cuda:0', grad_fn=<MseLossBackward>)\n",
      "97001 tensor(15921.5889, device='cuda:0', grad_fn=<MseLossBackward>)\n",
      "98001 tensor(148142.4062, device='cuda:0', grad_fn=<MseLossBackward>)\n",
      "99001 tensor(7532.6865, device='cuda:0', grad_fn=<MseLossBackward>)\n"
     ]
    }
   ],
   "source": [
    "for i in range(n_iter):\n",
    "    \n",
    "    prem_x, prem_y, postm_x, postm_y = data_gen(tr_x, tr_y, i, SUPPORT_SIZE, QUERY_SIZE, N_TRAIN)\n",
    "\n",
    "    prem_y = prem_y.reshape(-1, 1)\n",
    "    postm_y = postm_y.reshape(-1, 1)\n",
    "    org_param = {}\n",
    "    for k,v in model.named_parameters():Q\n",
    "        org_param[k] = v\n",
    "    \n",
    "    # pre-update\n",
    "    pred_y = model(prem_x)\n",
    "    pre_loss = mse(pred_y, prem_y)\n",
    "    \n",
    "    param_ec = {}\n",
    "\n",
    "    for k,v in org_param.items():\n",
    "        _g = torch.autograd.grad(pre_loss, v, create_graph=True)[0]\n",
    "        param_ec[k] = v - 0.0003 * _g\n",
    "    \n",
    "    \n",
    "    # post-update\n",
    "    post_pred_y = model(postm_x, param_ec)\n",
    "    post_loss = mse(post_pred_y, postm_y)\n",
    "    \n",
    "    if i % 1000 == 1:\n",
    "        print(i, post_loss)\n",
    "    \n",
    "    optimizer.zero_grad()\n",
    "\n",
    "    post_loss.backward()\n",
    "    optimizer.step()\n",
    "        "
   ]
  },
  {
   "cell_type": "markdown",
   "metadata": {},
   "source": [
    "## TEST(prediction)"
   ]
  },
  {
   "cell_type": "code",
   "execution_count": null,
   "metadata": {},
   "outputs": [],
   "source": [
    "te_x = torch.tensor(test_xs).cuda()\n",
    "te_y = torch.tensor(test_ys).cuda()"
   ]
  },
  {
   "cell_type": "code",
   "execution_count": 30,
   "metadata": {},
   "outputs": [
    {
     "name": "stdout",
     "output_type": "stream",
     "text": [
      "tensor(14467.8174, device='cuda:0', grad_fn=<DivBackward0>)\n"
     ]
    }
   ],
   "source": [
    "model.eval()\n",
    "TEST_ITER = 25\n",
    "\n",
    "total_loss = 0.\n",
    "\n",
    "for i in range(TEST_ITER):\n",
    "    prem_x, prem_y, postm_x, postm_y = data_gen(te_x, te_y, i, SUPPORT_SIZE, QUERY_SIZE, N_TEST)\n",
    "    \n",
    "    prem_y = prem_y.reshape(-1, 1)\n",
    "    postm_y = postm_y.reshape(-1, 1)\n",
    "    org_param = {}\n",
    "    for k,v in model.named_parameters():\n",
    "        org_param[k] = v\n",
    "    \n",
    "    # pre-update\n",
    "    pred_y = model(prem_x)\n",
    "    pre_loss = mse(pred_y, prem_y)\n",
    "    \n",
    "    param_ec = {}\n",
    "\n",
    "    for k,v in org_param.items():\n",
    "        _g = torch.autograd.grad(pre_loss, v, create_graph=True)[0]\n",
    "        param_ec[k] = v - 0.0003 * _g\n",
    "    \n",
    "    \n",
    "    # post-update\n",
    "    post_pred_y = model(postm_x, param_ec)\n",
    "    post_loss = mse(post_pred_y, postm_y)\n",
    "    \n",
    "    total_loss += post_loss\n",
    "    \n",
    "total_loss /= TEST_ITER * QUERY_SIZE\n",
    "print(total_loss)"
   ]
  },
  {
   "cell_type": "markdown",
   "metadata": {},
   "source": [
    "## Plain DL model"
   ]
  },
  {
   "cell_type": "code",
   "execution_count": 40,
   "metadata": {},
   "outputs": [
    {
     "name": "stdout",
     "output_type": "stream",
     "text": [
      "torch.Size([3000, 4])\n",
      "1 tensor(4.4789e+08, device='cuda:0', grad_fn=<MseLossBackward>)\n",
      "10001 tensor(1.3517e+08, device='cuda:0', grad_fn=<MseLossBackward>)\n",
      "20001 tensor(1.3096e+08, device='cuda:0', grad_fn=<MseLossBackward>)\n",
      "30001 tensor(1.2944e+08, device='cuda:0', grad_fn=<MseLossBackward>)\n",
      "40001 tensor(1.2756e+08, device='cuda:0', grad_fn=<MseLossBackward>)\n",
      "50001 tensor(1.2622e+08, device='cuda:0', grad_fn=<MseLossBackward>)\n",
      "60001 tensor(1.2458e+08, device='cuda:0', grad_fn=<MseLossBackward>)\n",
      "70001 tensor(1.2397e+08, device='cuda:0', grad_fn=<MseLossBackward>)\n",
      "80001 tensor(1.2110e+08, device='cuda:0', grad_fn=<MseLossBackward>)\n",
      "90001 tensor(1.1944e+08, device='cuda:0', grad_fn=<MseLossBackward>)\n"
     ]
    }
   ],
   "source": [
    "N = 4 # data dimension number\n",
    "H = 128 # hidden number\n",
    "OUT = 1 # output dimension\n",
    "batch_size = 32 # batch size\n",
    "\n",
    "learning_rate = 1e-3 # learning rate\n",
    "\n",
    "# dummy data\n",
    "#x = torch.randn(batch_size, N)\n",
    "#y = torch.randn(batch_size, 1)\n",
    "\n",
    "tr_x = torch.tensor(train_xs).cuda()\n",
    "tr_y = torch.tensor(train_ys).cuda().reshape(-1, 1)\n",
    "\n",
    "print(tr_x.shape)\n",
    "\n",
    "#te_x = torch.tensor(test_xs).cuda()\n",
    "#te_y = torch.tensor(test_ys).cuda().reshape(-1, 1)\n",
    "\n",
    "x = tr_x.float()\n",
    "y = tr_y.float()\n",
    "\n",
    "model = torch.nn.Sequential(\n",
    "    torch.nn.Linear(N, H),\n",
    "    torch.nn.ReLU(),\n",
    "    torch.nn.Linear(H, H),\n",
    "    torch.nn.ReLU(),\n",
    "    torch.nn.Linear(H, H),\n",
    "    torch.nn.ReLU(),\n",
    "    torch.nn.Linear(H, OUT),\n",
    ")\n",
    "\n",
    "model.cuda()\n",
    "model.train()\n",
    "\n",
    "loss_fn = torch.nn.MSELoss(reduction='sum')\n",
    "\n",
    "optimizer = torch.optim.Adam(model.parameters(), lr=learning_rate)\n",
    "\n",
    "for t in range(100000):\n",
    "    \n",
    "    y_pred = model(x)\n",
    "    loss = loss_fn(y_pred, y)\n",
    "    \n",
    "    optimizer.zero_grad()\n",
    "    \n",
    "    if t % 10000 == 1:\n",
    "        print(t, loss)\n",
    "\n",
    "    loss.backward()\n",
    "    optimizer.step()\n"
   ]
  },
  {
   "cell_type": "code",
   "execution_count": 42,
   "metadata": {},
   "outputs": [
    {
     "name": "stdout",
     "output_type": "stream",
     "text": [
      "tensor(1.9487e+10, device='cuda:0', grad_fn=<MseLossBackward>)\n"
     ]
    },
    {
     "name": "stderr",
     "output_type": "stream",
     "text": [
      "/home/befreor/.local/lib/python3.6/site-packages/torch/nn/modules/loss.py:432: UserWarning: Using a target size (torch.Size([512])) that is different to the input size (torch.Size([512, 1])). This will likely lead to incorrect results due to broadcasting. Please ensure they have the same size.\n",
      "  return F.mse_loss(input, target, reduction=self.reduction)\n"
     ]
    }
   ],
   "source": [
    "te_x = torch.tensor(test_xs).cuda().float()\n",
    "te_y = torch.tensor(test_ys).cuda().float()\n",
    "\n",
    "model.eval()\n",
    "\n",
    "y_pred = model(te_x)\n",
    "loss = loss_fn(y_pred, te_y)\n",
    "print(loss)"
   ]
  },
  {
   "cell_type": "code",
   "execution_count": null,
   "metadata": {},
   "outputs": [],
   "source": []
  }
 ],
 "metadata": {
  "kernelspec": {
   "display_name": "Python 3",
   "language": "python",
   "name": "python3"
  },
  "language_info": {
   "codemirror_mode": {
    "name": "ipython",
    "version": 3
   },
   "file_extension": ".py",
   "mimetype": "text/x-python",
   "name": "python",
   "nbconvert_exporter": "python",
   "pygments_lexer": "ipython3",
   "version": "3.6.9"
  }
 },
 "nbformat": 4,
 "nbformat_minor": 4
}
