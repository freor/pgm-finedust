{
 "cells": [
  {
   "cell_type": "markdown",
   "metadata": {},
   "source": [
    "# PGM - finedust Bayesian Modeling"
   ]
  },
  {
   "cell_type": "code",
   "execution_count": 1,
   "metadata": {},
   "outputs": [
    {
     "name": "stderr",
     "output_type": "stream",
     "text": [
      "WARNING (theano.tensor.blas): Using NumPy C-API based implementation for BLAS functions.\n"
     ]
    }
   ],
   "source": [
    "import pymc3\n",
    "from PGM.access_data import dbAccess"
   ]
  },
  {
   "cell_type": "code",
   "execution_count": 2,
   "metadata": {},
   "outputs": [
    {
     "name": "stdout",
     "output_type": "stream",
     "text": [
      "PGM/10_db_2016.csv\n",
      "('PM10', 'PM25', 'SO2', 'O3')\n",
      "[{'idx': 2, 'arg': 'PM10'}, {'idx': 3, 'arg': 'PM25'}, {'idx': 4, 'arg': 'SO2'}, {'idx': 6, 'arg': 'O3'}]\n",
      "{'idx': 2, 'arg': 'PM10'}\n",
      "{'idx': 3, 'arg': 'PM25'}\n",
      "{'idx': 4, 'arg': 'SO2'}\n",
      "{'idx': 6, 'arg': 'O3'}\n",
      "{'idx': 2, 'arg': 'PM10'}\n",
      "{'idx': 3, 'arg': 'PM25'}\n",
      "{'idx': 4, 'arg': 'SO2'}\n",
      "{'idx': 6, 'arg': 'O3'}\n",
      "{'idx': 2, 'arg': 'PM10'}\n",
      "{'idx': 3, 'arg': 'PM25'}\n",
      "{'idx': 4, 'arg': 'SO2'}\n",
      "{'idx': 6, 'arg': 'O3'}\n",
      "{'idx': 2, 'arg': 'PM10'}\n",
      "{'idx': 3, 'arg': 'PM25'}\n",
      "{'idx': 4, 'arg': 'SO2'}\n",
      "{'idx': 6, 'arg': 'O3'}\n",
      "{'idx': 2, 'arg': 'PM10'}\n",
      "{'idx': 3, 'arg': 'PM25'}\n",
      "{'idx': 4, 'arg': 'SO2'}\n",
      "{'idx': 6, 'arg': 'O3'}\n",
      "{'idx': 2, 'arg': 'PM10'}\n",
      "{'idx': 3, 'arg': 'PM25'}\n",
      "{'idx': 4, 'arg': 'SO2'}\n",
      "{'idx': 6, 'arg': 'O3'}\n",
      "{'idx': 2, 'arg': 'PM10'}\n",
      "{'idx': 3, 'arg': 'PM25'}\n",
      "{'idx': 4, 'arg': 'SO2'}\n",
      "{'idx': 6, 'arg': 'O3'}\n",
      "{'idx': 2, 'arg': 'PM10'}\n",
      "{'idx': 3, 'arg': 'PM25'}\n",
      "{'idx': 4, 'arg': 'SO2'}\n",
      "{'idx': 6, 'arg': 'O3'}\n",
      "{'idx': 2, 'arg': 'PM10'}\n",
      "{'idx': 3, 'arg': 'PM25'}\n",
      "{'idx': 4, 'arg': 'SO2'}\n",
      "{'idx': 6, 'arg': 'O3'}\n",
      "{'idx': 2, 'arg': 'PM10'}\n",
      "{'idx': 3, 'arg': 'PM25'}\n",
      "{'idx': 4, 'arg': 'SO2'}\n",
      "{'idx': 6, 'arg': 'O3'}\n",
      "{'idx': 2, 'arg': 'PM10'}\n",
      "{'idx': 3, 'arg': 'PM25'}\n",
      "{'idx': 4, 'arg': 'SO2'}\n",
      "{'idx': 6, 'arg': 'O3'}\n",
      "{'idx': 2, 'arg': 'PM10'}\n",
      "{'idx': 3, 'arg': 'PM25'}\n",
      "{'idx': 4, 'arg': 'SO2'}\n",
      "{'idx': 6, 'arg': 'O3'}\n",
      "{'idx': 2, 'arg': 'PM10'}\n",
      "{'idx': 3, 'arg': 'PM25'}\n",
      "{'idx': 4, 'arg': 'SO2'}\n",
      "{'idx': 6, 'arg': 'O3'}\n",
      "{'idx': 2, 'arg': 'PM10'}\n",
      "{'idx': 3, 'arg': 'PM25'}\n",
      "{'idx': 4, 'arg': 'SO2'}\n",
      "{'idx': 6, 'arg': 'O3'}\n",
      "{'idx': 2, 'arg': 'PM10'}\n",
      "{'idx': 3, 'arg': 'PM25'}\n",
      "{'idx': 4, 'arg': 'SO2'}\n",
      "{'idx': 6, 'arg': 'O3'}\n",
      "{'idx': 2, 'arg': 'PM10'}\n",
      "{'idx': 3, 'arg': 'PM25'}\n",
      "{'idx': 4, 'arg': 'SO2'}\n",
      "{'idx': 6, 'arg': 'O3'}\n",
      "{'idx': 2, 'arg': 'PM10'}\n",
      "{'idx': 3, 'arg': 'PM25'}\n",
      "{'idx': 4, 'arg': 'SO2'}\n",
      "{'idx': 6, 'arg': 'O3'}\n",
      "{'idx': 2, 'arg': 'PM10'}\n",
      "{'idx': 3, 'arg': 'PM25'}\n",
      "{'idx': 4, 'arg': 'SO2'}\n",
      "{'idx': 6, 'arg': 'O3'}\n",
      "{'idx': 2, 'arg': 'PM10'}\n",
      "{'idx': 3, 'arg': 'PM25'}\n",
      "{'idx': 4, 'arg': 'SO2'}\n",
      "{'idx': 6, 'arg': 'O3'}\n",
      "{'idx': 2, 'arg': 'PM10'}\n",
      "{'idx': 3, 'arg': 'PM25'}\n",
      "{'idx': 4, 'arg': 'SO2'}\n",
      "{'idx': 6, 'arg': 'O3'}\n",
      "{'idx': 2, 'arg': 'PM10'}\n",
      "{'idx': 3, 'arg': 'PM25'}\n",
      "{'idx': 4, 'arg': 'SO2'}\n",
      "{'idx': 6, 'arg': 'O3'}\n"
     ]
    }
   ],
   "source": [
    "pvId = \"10\"\n",
    "year = \"2016\"\n",
    "db = dbAccess(\"PGM/%s_db_%s.csv\" % (pvId,year))\n",
    "data = db.get_data(\"2016-01-01 01:00\", \"2016-01-01 21:00\",\"PM10\",\"PM25\",\"SO2\", \"O3\")"
   ]
  },
  {
   "cell_type": "code",
   "execution_count": 3,
   "metadata": {},
   "outputs": [
    {
     "name": "stdout",
     "output_type": "stream",
     "text": [
      "[{'time': '2016-01-01 01:00:00', 'PM10': '51', 'PM25': '30', 'SO2': '0.003', 'O3': '0.020'}, {'time': '2016-01-01 02:00:00', 'PM10': '50', 'PM25': '32', 'SO2': '0.002', 'O3': '0.019'}, {'time': '2016-01-01 03:00:00', 'PM10': '46', 'PM25': '33', 'SO2': '0.002', 'O3': '0.017'}, {'time': '2016-01-01 04:00:00', 'PM10': '46', 'PM25': '32', 'SO2': '0.002', 'O3': '0.017'}, {'time': '2016-01-01 05:00:00', 'PM10': '47', 'PM25': '31', 'SO2': '0.002', 'O3': '0.017'}, {'time': '2016-01-01 06:00:00', 'PM10': '48', 'PM25': '30', 'SO2': '0.002', 'O3': '0.015'}, {'time': '2016-01-01 07:00:00', 'PM10': '45', 'PM25': '31', 'SO2': '0.002', 'O3': '0.014'}, {'time': '2016-01-01 08:00:00', 'PM10': '50', 'PM25': '31', 'SO2': '0.002', 'O3': '0.013'}, {'time': '2016-01-01 09:00:00', 'PM10': '49', 'PM25': '28', 'SO2': '0.002', 'O3': '0.011'}, {'time': '2016-01-01 10:00:00', 'PM10': '51', 'PM25': '32', 'SO2': '0.003', 'O3': '0.014'}, {'time': '2016-01-01 11:00:00', 'PM10': '64', 'PM25': '34', 'SO2': '0.003', 'O3': '0.022'}, {'time': '2016-01-01 12:00:00', 'PM10': '54', 'PM25': '31', 'SO2': '0.003', 'O3': '0.029'}, {'time': '2016-01-01 13:00:00', 'PM10': '59', 'PM25': '38', 'SO2': '0.005', 'O3': '0.033'}, {'time': '2016-01-01 14:00:00', 'PM10': '66', 'PM25': '35', 'SO2': '0.006', 'O3': '0.034'}, {'time': '2016-01-01 15:00:00', 'PM10': '68', 'PM25': '37', 'SO2': '0.014', 'O3': '0.035'}, {'time': '2016-01-01 16:00:00', 'PM10': '76', 'PM25': '41', 'SO2': '0.008', 'O3': '0.038'}, {'time': '2016-01-01 17:00:00', 'PM10': '56', 'PM25': '37', 'SO2': '0.003', 'O3': '0.039'}, {'time': '2016-01-01 18:00:00', 'PM10': '43', 'PM25': '28', 'SO2': '0.003', 'O3': '0.036'}, {'time': '2016-01-01 19:00:00', 'PM10': '45', 'PM25': '28', 'SO2': '0.003', 'O3': '0.027'}, {'time': '2016-01-01 20:00:00', 'PM10': '52', 'PM25': '27', 'SO2': '0.003', 'O3': '0.020'}, {'time': '2016-01-01 21:00:00', 'PM10': '51', 'PM25': '35', 'SO2': '0.003', 'O3': '0.021'}]\n"
     ]
    }
   ],
   "source": [
    "print(data)"
   ]
  },
  {
   "cell_type": "code",
   "execution_count": 4,
   "metadata": {},
   "outputs": [
    {
     "data": {
      "image/svg+xml": [
       "<?xml version=\"1.0\" encoding=\"UTF-8\" standalone=\"no\"?>\n",
       "<!DOCTYPE svg PUBLIC \"-//W3C//DTD SVG 1.1//EN\"\n",
       " \"http://www.w3.org/Graphics/SVG/1.1/DTD/svg11.dtd\">\n",
       "<!-- Generated by graphviz version 2.40.1 (20161225.0304)\n",
       " -->\n",
       "<!-- Title: %3 Pages: 1 -->\n",
       "<svg width=\"496pt\" height=\"135pt\"\n",
       " viewBox=\"0.00 0.00 496.49 135.00\" xmlns=\"http://www.w3.org/2000/svg\" xmlns:xlink=\"http://www.w3.org/1999/xlink\">\n",
       "<g id=\"graph0\" class=\"graph\" transform=\"scale(1 1) rotate(0) translate(4 131)\">\n",
       "<title>%3</title>\n",
       "<polygon fill=\"#ffffff\" stroke=\"transparent\" points=\"-4,4 -4,-131 492.4925,-131 492.4925,4 -4,4\"/>\n",
       "<g id=\"clust1\" class=\"cluster\">\n",
       "<title>cluster2</title>\n",
       "<path fill=\"none\" stroke=\"#000000\" d=\"M20,-44C20,-44 146,-44 146,-44 152,-44 158,-50 158,-56 158,-56 158,-107 158,-107 158,-113 152,-119 146,-119 146,-119 20,-119 20,-119 14,-119 8,-113 8,-107 8,-107 8,-56 8,-56 8,-50 14,-44 20,-44\"/>\n",
       "<text text-anchor=\"middle\" x=\"146.5\" y=\"-51.8\" font-family=\"Times,serif\" font-size=\"14.00\" fill=\"#000000\">2</text>\n",
       "</g>\n",
       "<!-- beta0 -->\n",
       "<g id=\"node1\" class=\"node\">\n",
       "<title>beta0</title>\n",
       "<ellipse fill=\"none\" stroke=\"#000000\" cx=\"83\" cy=\"-93\" rx=\"66.8882\" ry=\"18\"/>\n",
       "<text text-anchor=\"middle\" x=\"83\" y=\"-89.3\" font-family=\"Times,serif\" font-size=\"14.00\" fill=\"#000000\">beta0 ~ Normal</text>\n",
       "</g>\n",
       "<!-- y -->\n",
       "<g id=\"node3\" class=\"node\">\n",
       "<title>y</title>\n",
       "<ellipse fill=\"#d3d3d3\" stroke=\"#000000\" cx=\"235\" cy=\"-18\" rx=\"51.9908\" ry=\"18\"/>\n",
       "<text text-anchor=\"middle\" x=\"235\" y=\"-14.3\" font-family=\"Times,serif\" font-size=\"14.00\" fill=\"#000000\">y ~ Normal</text>\n",
       "</g>\n",
       "<!-- beta0&#45;&gt;y -->\n",
       "<g id=\"edge2\" class=\"edge\">\n",
       "<title>beta0&#45;&gt;y</title>\n",
       "<path fill=\"none\" stroke=\"#000000\" d=\"M106.0928,-76.0075C120.7273,-65.7803 140.3506,-53.0351 159,-44 167.2947,-39.9815 176.3723,-36.3049 185.2756,-33.0615\"/>\n",
       "<polygon fill=\"#000000\" stroke=\"#000000\" points=\"186.5427,-36.3262 194.8229,-29.7165 184.228,-29.72 186.5427,-36.3262\"/>\n",
       "</g>\n",
       "<!-- beta1 -->\n",
       "<g id=\"node2\" class=\"node\">\n",
       "<title>beta1</title>\n",
       "<ellipse fill=\"none\" stroke=\"#000000\" cx=\"235\" cy=\"-93\" rx=\"66.8882\" ry=\"18\"/>\n",
       "<text text-anchor=\"middle\" x=\"235\" y=\"-89.3\" font-family=\"Times,serif\" font-size=\"14.00\" fill=\"#000000\">beta1 ~ Normal</text>\n",
       "</g>\n",
       "<!-- beta1&#45;&gt;y -->\n",
       "<g id=\"edge1\" class=\"edge\">\n",
       "<title>beta1&#45;&gt;y</title>\n",
       "<path fill=\"none\" stroke=\"#000000\" d=\"M235,-74.8446C235,-66.3401 235,-56.0076 235,-46.4964\"/>\n",
       "<polygon fill=\"#000000\" stroke=\"#000000\" points=\"238.5001,-46.2481 235,-36.2482 231.5001,-46.2482 238.5001,-46.2481\"/>\n",
       "</g>\n",
       "<!-- sigma -->\n",
       "<g id=\"node4\" class=\"node\">\n",
       "<title>sigma</title>\n",
       "<ellipse fill=\"none\" stroke=\"#000000\" cx=\"404\" cy=\"-93\" rx=\"84.485\" ry=\"18\"/>\n",
       "<text text-anchor=\"middle\" x=\"404\" y=\"-89.3\" font-family=\"Times,serif\" font-size=\"14.00\" fill=\"#000000\">sigma ~ HalfCauchy</text>\n",
       "</g>\n",
       "<!-- sigma&#45;&gt;y -->\n",
       "<g id=\"edge3\" class=\"edge\">\n",
       "<title>sigma&#45;&gt;y</title>\n",
       "<path fill=\"none\" stroke=\"#000000\" d=\"M374.4213,-75.9038C356.4261,-65.8865 332.7842,-53.3975 311,-44 302.2569,-40.2283 292.771,-36.6189 283.5606,-33.3536\"/>\n",
       "<polygon fill=\"#000000\" stroke=\"#000000\" points=\"284.6995,-30.0441 274.1048,-30.0829 282.4113,-36.6596 284.6995,-30.0441\"/>\n",
       "</g>\n",
       "</g>\n",
       "</svg>\n"
      ],
      "text/plain": [
       "<graphviz.dot.Digraph at 0x7fc2632d4898>"
      ]
     },
     "execution_count": 4,
     "metadata": {},
     "output_type": "execute_result"
    }
   ],
   "source": [
    "from pymc3 import Model, sample, Normal, HalfCauchy, Uniform, model_to_graphviz\n",
    "\n",
    "with Model() as unpooled_model:\n",
    "\n",
    "    beta0 = Normal('beta0', 0, sigma=1e5, shape=2)\n",
    "    beta1 = Normal('beta1', 0, sigma=1e5)\n",
    "    sigma = HalfCauchy('sigma', 5)\n",
    "\n",
    "    theta = beta0[0] + beta1*2\n",
    "\n",
    "    y = Normal('y', theta, sigma=sigma, observed=2)\n",
    "model_to_graphviz(unpooled_model)\n"
   ]
  },
  {
   "cell_type": "code",
   "execution_count": null,
   "metadata": {},
   "outputs": [],
   "source": []
  }
 ],
 "metadata": {
  "kernelspec": {
   "display_name": "Python 3",
   "language": "python",
   "name": "python3"
  },
  "language_info": {
   "codemirror_mode": {
    "name": "ipython",
    "version": 3
   },
   "file_extension": ".py",
   "mimetype": "text/x-python",
   "name": "python",
   "nbconvert_exporter": "python",
   "pygments_lexer": "ipython3",
   "version": "3.6.9"
  }
 },
 "nbformat": 4,
 "nbformat_minor": 4
}
